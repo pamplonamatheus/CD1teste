{
 "cells": [
  {
   "cell_type": "markdown",
   "metadata": {},
   "source": [
    "# Projeto 2 - Ciência dos dados\n",
    "\n",
    "\n",
    "### Felipe Rocha Sigiani             -- Turma: C\n",
    "### João Vitor Rodrigues Silva     --    Turma: C\n",
    "### Lucas Henrique Lemes Silva         --     Turma: B\n",
    "### Matheus de Souza Pamplona Silva    --    Turma: B\n"
   ]
  },
  {
   "cell_type": "code",
   "execution_count": 1,
   "metadata": {
    "collapsed": true
   },
   "outputs": [],
   "source": [
    "import pandas as pd\n",
    "import json\n",
    "import itertools\n",
    "import numpy as np\n",
    "import matplotlib.pyplot as plt\n",
    "%matplotlib inline"
   ]
  },
  {
   "cell_type": "code",
   "execution_count": 2,
   "metadata": {
    "collapsed": false
   },
   "outputs": [],
   "source": [
    "arquivo = open(\"teste-ab.json\")\n",
    "linhas = arquivo.readlines()\n",
    "texto = \"\".join(linhas)\n",
    "dados_fire = json.loads(texto)"
   ]
  },
  {
   "cell_type": "markdown",
   "metadata": {},
   "source": [
    "Parâmetros iniciais, e abertura do documento."
   ]
  },
  {
   "cell_type": "code",
   "execution_count": 3,
   "metadata": {
    "collapsed": true
   },
   "outputs": [],
   "source": [
    "for k,v in dados_fire[\"logs\"].items():\n",
    "    # print(k,v) # habilite para imprimir as chaves de mais alto nível\n",
    "    for chave, valor in v.items():\n",
    "        # print(chave, valor) # habilite para imprimir as chaves inferiores\n",
    "        pass # desabilite quando reabilitar a linha de cima"
   ]
  },
  {
   "cell_type": "code",
   "execution_count": 4,
   "metadata": {
    "collapsed": true
   },
   "outputs": [],
   "source": [
    "lista_dicionarios = []\n",
    "\n",
    "for k,v in dados_fire[\"logs\"].items():\n",
    "    lista_dicionarios.append(v)"
   ]
  },
  {
   "cell_type": "code",
   "execution_count": 5,
   "metadata": {
    "collapsed": true
   },
   "outputs": [],
   "source": [
    "dataframe = pd.DataFrame.from_records(lista_dicionarios)"
   ]
  },
  {
   "cell_type": "code",
   "execution_count": 6,
   "metadata": {
    "collapsed": false
   },
   "outputs": [
    {
     "data": {
      "text/html": [
       "<div>\n",
       "<table border=\"1\" class=\"dataframe\">\n",
       "  <thead>\n",
       "    <tr style=\"text-align: right;\">\n",
       "      <th></th>\n",
       "      <th>tempo</th>\n",
       "      <th>tipo</th>\n",
       "      <th>user_id</th>\n",
       "      <th>versao</th>\n",
       "    </tr>\n",
       "  </thead>\n",
       "  <tbody>\n",
       "    <tr>\n",
       "      <th>0</th>\n",
       "      <td>1479289519934</td>\n",
       "      <td>inicio</td>\n",
       "      <td>2779827600</td>\n",
       "      <td>B</td>\n",
       "    </tr>\n",
       "    <tr>\n",
       "      <th>1</th>\n",
       "      <td>1479337954340</td>\n",
       "      <td>inicio</td>\n",
       "      <td>4148815944</td>\n",
       "      <td>B</td>\n",
       "    </tr>\n",
       "    <tr>\n",
       "      <th>2</th>\n",
       "      <td>1479292829536</td>\n",
       "      <td>final</td>\n",
       "      <td>2453186631</td>\n",
       "      <td>B</td>\n",
       "    </tr>\n",
       "    <tr>\n",
       "      <th>3</th>\n",
       "      <td>1479321012480</td>\n",
       "      <td>final</td>\n",
       "      <td>1694665000</td>\n",
       "      <td>A</td>\n",
       "    </tr>\n",
       "    <tr>\n",
       "      <th>4</th>\n",
       "      <td>1479308428830</td>\n",
       "      <td>final</td>\n",
       "      <td>3238465590</td>\n",
       "      <td>A</td>\n",
       "    </tr>\n",
       "    <tr>\n",
       "      <th>5</th>\n",
       "      <td>1479303093400</td>\n",
       "      <td>inicio</td>\n",
       "      <td>3726855309</td>\n",
       "      <td>B</td>\n",
       "    </tr>\n",
       "    <tr>\n",
       "      <th>6</th>\n",
       "      <td>1479318638878</td>\n",
       "      <td>inicio</td>\n",
       "      <td>343915892</td>\n",
       "      <td>B</td>\n",
       "    </tr>\n",
       "    <tr>\n",
       "      <th>7</th>\n",
       "      <td>1479057212954</td>\n",
       "      <td>inicio</td>\n",
       "      <td>3299522247</td>\n",
       "      <td>B</td>\n",
       "    </tr>\n",
       "    <tr>\n",
       "      <th>8</th>\n",
       "      <td>1479337801908</td>\n",
       "      <td>inicio</td>\n",
       "      <td>4148815944</td>\n",
       "      <td>B</td>\n",
       "    </tr>\n",
       "    <tr>\n",
       "      <th>9</th>\n",
       "      <td>1478570125550</td>\n",
       "      <td>inicio</td>\n",
       "      <td>3869601383</td>\n",
       "      <td>B</td>\n",
       "    </tr>\n",
       "    <tr>\n",
       "      <th>10</th>\n",
       "      <td>1479288541643</td>\n",
       "      <td>inicio</td>\n",
       "      <td>785509936</td>\n",
       "      <td>A</td>\n",
       "    </tr>\n",
       "    <tr>\n",
       "      <th>11</th>\n",
       "      <td>1479330103294</td>\n",
       "      <td>inicio</td>\n",
       "      <td>2347875977</td>\n",
       "      <td>A</td>\n",
       "    </tr>\n",
       "    <tr>\n",
       "      <th>12</th>\n",
       "      <td>1479325111929</td>\n",
       "      <td>inicio</td>\n",
       "      <td>3913753674</td>\n",
       "      <td>B</td>\n",
       "    </tr>\n",
       "    <tr>\n",
       "      <th>13</th>\n",
       "      <td>1479330735081</td>\n",
       "      <td>final</td>\n",
       "      <td>537277891</td>\n",
       "      <td>A</td>\n",
       "    </tr>\n",
       "    <tr>\n",
       "      <th>14</th>\n",
       "      <td>1478270277383</td>\n",
       "      <td>final</td>\n",
       "      <td>2299771869</td>\n",
       "      <td>A</td>\n",
       "    </tr>\n",
       "    <tr>\n",
       "      <th>15</th>\n",
       "      <td>1479336179906</td>\n",
       "      <td>final</td>\n",
       "      <td>2285791202</td>\n",
       "      <td>B</td>\n",
       "    </tr>\n",
       "    <tr>\n",
       "      <th>16</th>\n",
       "      <td>1479323298390</td>\n",
       "      <td>inicio</td>\n",
       "      <td>2914033577</td>\n",
       "      <td>A</td>\n",
       "    </tr>\n",
       "    <tr>\n",
       "      <th>17</th>\n",
       "      <td>1479289731774</td>\n",
       "      <td>inicio</td>\n",
       "      <td>4055095767</td>\n",
       "      <td>B</td>\n",
       "    </tr>\n",
       "    <tr>\n",
       "      <th>18</th>\n",
       "      <td>1479298717895</td>\n",
       "      <td>inicio</td>\n",
       "      <td>668496795</td>\n",
       "      <td>B</td>\n",
       "    </tr>\n",
       "    <tr>\n",
       "      <th>19</th>\n",
       "      <td>1479289800499</td>\n",
       "      <td>inicio</td>\n",
       "      <td>4055095767</td>\n",
       "      <td>B</td>\n",
       "    </tr>\n",
       "    <tr>\n",
       "      <th>20</th>\n",
       "      <td>1479329125961</td>\n",
       "      <td>inicio</td>\n",
       "      <td>1802323419</td>\n",
       "      <td>A</td>\n",
       "    </tr>\n",
       "    <tr>\n",
       "      <th>21</th>\n",
       "      <td>1479289469984</td>\n",
       "      <td>final</td>\n",
       "      <td>689965390</td>\n",
       "      <td>A</td>\n",
       "    </tr>\n",
       "    <tr>\n",
       "      <th>22</th>\n",
       "      <td>1479337905939</td>\n",
       "      <td>inicio</td>\n",
       "      <td>4148815944</td>\n",
       "      <td>B</td>\n",
       "    </tr>\n",
       "    <tr>\n",
       "      <th>23</th>\n",
       "      <td>1479288578414</td>\n",
       "      <td>inicio</td>\n",
       "      <td>2890538390</td>\n",
       "      <td>A</td>\n",
       "    </tr>\n",
       "    <tr>\n",
       "      <th>24</th>\n",
       "      <td>1479062684559</td>\n",
       "      <td>inicio</td>\n",
       "      <td>3552481798</td>\n",
       "      <td>A</td>\n",
       "    </tr>\n",
       "    <tr>\n",
       "      <th>25</th>\n",
       "      <td>1478260731940</td>\n",
       "      <td>inicio</td>\n",
       "      <td>1355150594</td>\n",
       "      <td>B</td>\n",
       "    </tr>\n",
       "    <tr>\n",
       "      <th>26</th>\n",
       "      <td>1479323253232</td>\n",
       "      <td>inicio</td>\n",
       "      <td>1966625919</td>\n",
       "      <td>B</td>\n",
       "    </tr>\n",
       "    <tr>\n",
       "      <th>27</th>\n",
       "      <td>1478572034868</td>\n",
       "      <td>inicio</td>\n",
       "      <td>1031117037</td>\n",
       "      <td>B</td>\n",
       "    </tr>\n",
       "    <tr>\n",
       "      <th>28</th>\n",
       "      <td>1479287856483</td>\n",
       "      <td>inicio</td>\n",
       "      <td>158080108</td>\n",
       "      <td>B</td>\n",
       "    </tr>\n",
       "    <tr>\n",
       "      <th>29</th>\n",
       "      <td>1479294965700</td>\n",
       "      <td>inicio</td>\n",
       "      <td>2627218697</td>\n",
       "      <td>B</td>\n",
       "    </tr>\n",
       "    <tr>\n",
       "      <th>...</th>\n",
       "      <td>...</td>\n",
       "      <td>...</td>\n",
       "      <td>...</td>\n",
       "      <td>...</td>\n",
       "    </tr>\n",
       "    <tr>\n",
       "      <th>163</th>\n",
       "      <td>1478270269594</td>\n",
       "      <td>inicio</td>\n",
       "      <td>2299771869</td>\n",
       "      <td>A</td>\n",
       "    </tr>\n",
       "    <tr>\n",
       "      <th>164</th>\n",
       "      <td>1478303967908</td>\n",
       "      <td>final</td>\n",
       "      <td>1355150594</td>\n",
       "      <td>B</td>\n",
       "    </tr>\n",
       "    <tr>\n",
       "      <th>165</th>\n",
       "      <td>1479302319203</td>\n",
       "      <td>final</td>\n",
       "      <td>1132830238</td>\n",
       "      <td>B</td>\n",
       "    </tr>\n",
       "    <tr>\n",
       "      <th>166</th>\n",
       "      <td>1479330109373</td>\n",
       "      <td>final</td>\n",
       "      <td>2347875977</td>\n",
       "      <td>A</td>\n",
       "    </tr>\n",
       "    <tr>\n",
       "      <th>167</th>\n",
       "      <td>1479336200454</td>\n",
       "      <td>final</td>\n",
       "      <td>2285791202</td>\n",
       "      <td>B</td>\n",
       "    </tr>\n",
       "    <tr>\n",
       "      <th>168</th>\n",
       "      <td>1479292137710</td>\n",
       "      <td>inicio</td>\n",
       "      <td>1199188587</td>\n",
       "      <td>A</td>\n",
       "    </tr>\n",
       "    <tr>\n",
       "      <th>169</th>\n",
       "      <td>1479323302828</td>\n",
       "      <td>final</td>\n",
       "      <td>4187339032</td>\n",
       "      <td>A</td>\n",
       "    </tr>\n",
       "    <tr>\n",
       "      <th>170</th>\n",
       "      <td>1479323429099</td>\n",
       "      <td>inicio</td>\n",
       "      <td>2914033577</td>\n",
       "      <td>A</td>\n",
       "    </tr>\n",
       "    <tr>\n",
       "      <th>171</th>\n",
       "      <td>1478270219168</td>\n",
       "      <td>inicio</td>\n",
       "      <td>2299771869</td>\n",
       "      <td>B</td>\n",
       "    </tr>\n",
       "    <tr>\n",
       "      <th>172</th>\n",
       "      <td>1479302073930</td>\n",
       "      <td>inicio</td>\n",
       "      <td>1132830238</td>\n",
       "      <td>B</td>\n",
       "    </tr>\n",
       "    <tr>\n",
       "      <th>173</th>\n",
       "      <td>1479289376922</td>\n",
       "      <td>inicio</td>\n",
       "      <td>2779827600</td>\n",
       "      <td>B</td>\n",
       "    </tr>\n",
       "    <tr>\n",
       "      <th>174</th>\n",
       "      <td>1479288819649</td>\n",
       "      <td>inicio</td>\n",
       "      <td>785509936</td>\n",
       "      <td>A</td>\n",
       "    </tr>\n",
       "    <tr>\n",
       "      <th>175</th>\n",
       "      <td>1479291499015</td>\n",
       "      <td>final</td>\n",
       "      <td>1717663905</td>\n",
       "      <td>B</td>\n",
       "    </tr>\n",
       "    <tr>\n",
       "      <th>176</th>\n",
       "      <td>1479330121145</td>\n",
       "      <td>inicio</td>\n",
       "      <td>2347875977</td>\n",
       "      <td>A</td>\n",
       "    </tr>\n",
       "    <tr>\n",
       "      <th>177</th>\n",
       "      <td>1479293098150</td>\n",
       "      <td>inicio</td>\n",
       "      <td>1422577995</td>\n",
       "      <td>A</td>\n",
       "    </tr>\n",
       "    <tr>\n",
       "      <th>178</th>\n",
       "      <td>1479295677616</td>\n",
       "      <td>inicio</td>\n",
       "      <td>2627218697</td>\n",
       "      <td>A</td>\n",
       "    </tr>\n",
       "    <tr>\n",
       "      <th>179</th>\n",
       "      <td>1479288949399</td>\n",
       "      <td>inicio</td>\n",
       "      <td>3789181448</td>\n",
       "      <td>B</td>\n",
       "    </tr>\n",
       "    <tr>\n",
       "      <th>180</th>\n",
       "      <td>1478570086642</td>\n",
       "      <td>inicio</td>\n",
       "      <td>3869601383</td>\n",
       "      <td>B</td>\n",
       "    </tr>\n",
       "    <tr>\n",
       "      <th>181</th>\n",
       "      <td>1479287559838</td>\n",
       "      <td>final</td>\n",
       "      <td>161490244</td>\n",
       "      <td>A</td>\n",
       "    </tr>\n",
       "    <tr>\n",
       "      <th>182</th>\n",
       "      <td>1479290242330</td>\n",
       "      <td>final</td>\n",
       "      <td>2941970773</td>\n",
       "      <td>B</td>\n",
       "    </tr>\n",
       "    <tr>\n",
       "      <th>183</th>\n",
       "      <td>1479331357410</td>\n",
       "      <td>inicio</td>\n",
       "      <td>537277891</td>\n",
       "      <td>B</td>\n",
       "    </tr>\n",
       "    <tr>\n",
       "      <th>184</th>\n",
       "      <td>1478279745176</td>\n",
       "      <td>final</td>\n",
       "      <td>3705282954</td>\n",
       "      <td>A</td>\n",
       "    </tr>\n",
       "    <tr>\n",
       "      <th>185</th>\n",
       "      <td>1478270236239</td>\n",
       "      <td>final</td>\n",
       "      <td>2299771869</td>\n",
       "      <td>B</td>\n",
       "    </tr>\n",
       "    <tr>\n",
       "      <th>186</th>\n",
       "      <td>1479293397621</td>\n",
       "      <td>inicio</td>\n",
       "      <td>3789181448</td>\n",
       "      <td>B</td>\n",
       "    </tr>\n",
       "    <tr>\n",
       "      <th>187</th>\n",
       "      <td>1479329271449</td>\n",
       "      <td>final</td>\n",
       "      <td>1802323419</td>\n",
       "      <td>A</td>\n",
       "    </tr>\n",
       "    <tr>\n",
       "      <th>188</th>\n",
       "      <td>1479323226863</td>\n",
       "      <td>final</td>\n",
       "      <td>1386160978</td>\n",
       "      <td>A</td>\n",
       "    </tr>\n",
       "    <tr>\n",
       "      <th>189</th>\n",
       "      <td>1479330090068</td>\n",
       "      <td>inicio</td>\n",
       "      <td>2347875977</td>\n",
       "      <td>A</td>\n",
       "    </tr>\n",
       "    <tr>\n",
       "      <th>190</th>\n",
       "      <td>1479062864803</td>\n",
       "      <td>inicio</td>\n",
       "      <td>1924079479</td>\n",
       "      <td>A</td>\n",
       "    </tr>\n",
       "    <tr>\n",
       "      <th>191</th>\n",
       "      <td>1479287389416</td>\n",
       "      <td>inicio</td>\n",
       "      <td>3789181448</td>\n",
       "      <td>B</td>\n",
       "    </tr>\n",
       "    <tr>\n",
       "      <th>192</th>\n",
       "      <td>1478262705155</td>\n",
       "      <td>inicio</td>\n",
       "      <td>3563937844</td>\n",
       "      <td>B</td>\n",
       "    </tr>\n",
       "  </tbody>\n",
       "</table>\n",
       "<p>193 rows × 4 columns</p>\n",
       "</div>"
      ],
      "text/plain": [
       "             tempo    tipo     user_id versao\n",
       "0    1479289519934  inicio  2779827600      B\n",
       "1    1479337954340  inicio  4148815944      B\n",
       "2    1479292829536   final  2453186631      B\n",
       "3    1479321012480   final  1694665000      A\n",
       "4    1479308428830   final  3238465590      A\n",
       "5    1479303093400  inicio  3726855309      B\n",
       "6    1479318638878  inicio   343915892      B\n",
       "7    1479057212954  inicio  3299522247      B\n",
       "8    1479337801908  inicio  4148815944      B\n",
       "9    1478570125550  inicio  3869601383      B\n",
       "10   1479288541643  inicio   785509936      A\n",
       "11   1479330103294  inicio  2347875977      A\n",
       "12   1479325111929  inicio  3913753674      B\n",
       "13   1479330735081   final   537277891      A\n",
       "14   1478270277383   final  2299771869      A\n",
       "15   1479336179906   final  2285791202      B\n",
       "16   1479323298390  inicio  2914033577      A\n",
       "17   1479289731774  inicio  4055095767      B\n",
       "18   1479298717895  inicio   668496795      B\n",
       "19   1479289800499  inicio  4055095767      B\n",
       "20   1479329125961  inicio  1802323419      A\n",
       "21   1479289469984   final   689965390      A\n",
       "22   1479337905939  inicio  4148815944      B\n",
       "23   1479288578414  inicio  2890538390      A\n",
       "24   1479062684559  inicio  3552481798      A\n",
       "25   1478260731940  inicio  1355150594      B\n",
       "26   1479323253232  inicio  1966625919      B\n",
       "27   1478572034868  inicio  1031117037      B\n",
       "28   1479287856483  inicio   158080108      B\n",
       "29   1479294965700  inicio  2627218697      B\n",
       "..             ...     ...         ...    ...\n",
       "163  1478270269594  inicio  2299771869      A\n",
       "164  1478303967908   final  1355150594      B\n",
       "165  1479302319203   final  1132830238      B\n",
       "166  1479330109373   final  2347875977      A\n",
       "167  1479336200454   final  2285791202      B\n",
       "168  1479292137710  inicio  1199188587      A\n",
       "169  1479323302828   final  4187339032      A\n",
       "170  1479323429099  inicio  2914033577      A\n",
       "171  1478270219168  inicio  2299771869      B\n",
       "172  1479302073930  inicio  1132830238      B\n",
       "173  1479289376922  inicio  2779827600      B\n",
       "174  1479288819649  inicio   785509936      A\n",
       "175  1479291499015   final  1717663905      B\n",
       "176  1479330121145  inicio  2347875977      A\n",
       "177  1479293098150  inicio  1422577995      A\n",
       "178  1479295677616  inicio  2627218697      A\n",
       "179  1479288949399  inicio  3789181448      B\n",
       "180  1478570086642  inicio  3869601383      B\n",
       "181  1479287559838   final   161490244      A\n",
       "182  1479290242330   final  2941970773      B\n",
       "183  1479331357410  inicio   537277891      B\n",
       "184  1478279745176   final  3705282954      A\n",
       "185  1478270236239   final  2299771869      B\n",
       "186  1479293397621  inicio  3789181448      B\n",
       "187  1479329271449   final  1802323419      A\n",
       "188  1479323226863   final  1386160978      A\n",
       "189  1479330090068  inicio  2347875977      A\n",
       "190  1479062864803  inicio  1924079479      A\n",
       "191  1479287389416  inicio  3789181448      B\n",
       "192  1478262705155  inicio  3563937844      B\n",
       "\n",
       "[193 rows x 4 columns]"
      ]
     },
     "execution_count": 6,
     "metadata": {},
     "output_type": "execute_result"
    }
   ],
   "source": [
    "dataframe"
   ]
  },
  {
   "cell_type": "code",
   "execution_count": 7,
   "metadata": {
    "collapsed": true
   },
   "outputs": [],
   "source": [
    "agrupado = dataframe.groupby(by=[\"user_id\", \"versao\"])"
   ]
  },
  {
   "cell_type": "code",
   "execution_count": 8,
   "metadata": {
    "collapsed": true
   },
   "outputs": [],
   "source": [
    "users = set(dataframe.user_id)"
   ]
  },
  {
   "cell_type": "markdown",
   "metadata": {},
   "source": [
    "O código acima converte o conjunto para que cada usuario apareça somente uma vez."
   ]
  },
  {
   "cell_type": "code",
   "execution_count": 9,
   "metadata": {
    "collapsed": true
   },
   "outputs": [],
   "source": [
    "users = list(users) "
   ]
  },
  {
   "cell_type": "code",
   "execution_count": 10,
   "metadata": {
    "collapsed": true
   },
   "outputs": [],
   "source": [
    "resultados = []\n",
    "\n",
    "for u in users:\n",
    "    for versao in [\"A\", \"B\"]:\n",
    "        if (u, versao) in agrupado.groups.keys():  \n",
    "            grupo1 =  agrupado.get_group((u, versao))\n",
    "            grupo1 = grupo1.sort_values(by=\"tempo\") # Para evitar que inícios sem fim gerem tempos negativos\n",
    "            \n",
    "            if len(grupo1[grupo1.tipo==\"final\"])>= 1 and len(grupo1[grupo1.tipo==\"inicio\"]) >= 1:\n",
    "                delta_t = grupo1[grupo1.tipo==\"final\"].iloc[-1].tempo - grupo1[grupo1.tipo==\"inicio\"].iloc[0].tempo\n",
    "                resultados.append({\"user_id\":u, \"delta_t\":delta_t, \"versao\":versao})"
   ]
  },
  {
   "cell_type": "markdown",
   "metadata": {},
   "source": []
  },
  {
   "cell_type": "code",
   "execution_count": 11,
   "metadata": {
    "collapsed": false
   },
   "outputs": [
    {
     "data": {
      "text/html": [
       "<div>\n",
       "<table border=\"1\" class=\"dataframe\">\n",
       "  <thead>\n",
       "    <tr style=\"text-align: right;\">\n",
       "      <th></th>\n",
       "      <th>tempo</th>\n",
       "      <th>tipo</th>\n",
       "      <th>user_id</th>\n",
       "      <th>versao</th>\n",
       "    </tr>\n",
       "  </thead>\n",
       "  <tbody>\n",
       "    <tr>\n",
       "      <th>26</th>\n",
       "      <td>1479323253232</td>\n",
       "      <td>inicio</td>\n",
       "      <td>1966625919</td>\n",
       "      <td>B</td>\n",
       "    </tr>\n",
       "    <tr>\n",
       "      <th>103</th>\n",
       "      <td>1479323258303</td>\n",
       "      <td>final</td>\n",
       "      <td>1966625919</td>\n",
       "      <td>B</td>\n",
       "    </tr>\n",
       "  </tbody>\n",
       "</table>\n",
       "</div>"
      ],
      "text/plain": [
       "             tempo    tipo     user_id versao\n",
       "26   1479323253232  inicio  1966625919      B\n",
       "103  1479323258303   final  1966625919      B"
      ]
     },
     "execution_count": 11,
     "metadata": {},
     "output_type": "execute_result"
    }
   ],
   "source": [
    "grupo1.sort_values(by=\"tempo\")"
   ]
  },
  {
   "cell_type": "code",
   "execution_count": 12,
   "metadata": {
    "collapsed": true
   },
   "outputs": [],
   "source": [
    "dataframe_resumo = pd.DataFrame.from_records(resultados)"
   ]
  },
  {
   "cell_type": "code",
   "execution_count": 13,
   "metadata": {
    "collapsed": true
   },
   "outputs": [],
   "source": [
    "dataframe_resumo.delta_t/=1000 # Convertendo milissegundos em segundos"
   ]
  },
  {
   "cell_type": "code",
   "execution_count": 14,
   "metadata": {
    "collapsed": false
   },
   "outputs": [
    {
     "data": {
      "text/html": [
       "<div>\n",
       "<table border=\"1\" class=\"dataframe\">\n",
       "  <thead>\n",
       "    <tr style=\"text-align: right;\">\n",
       "      <th></th>\n",
       "      <th>delta_t</th>\n",
       "      <th>user_id</th>\n",
       "      <th>versao</th>\n",
       "    </tr>\n",
       "  </thead>\n",
       "  <tbody>\n",
       "    <tr>\n",
       "      <th>0</th>\n",
       "      <td>43235.968</td>\n",
       "      <td>1355150594</td>\n",
       "      <td>B</td>\n",
       "    </tr>\n",
       "    <tr>\n",
       "      <th>1</th>\n",
       "      <td>6.483</td>\n",
       "      <td>1561760900</td>\n",
       "      <td>B</td>\n",
       "    </tr>\n",
       "    <tr>\n",
       "      <th>2</th>\n",
       "      <td>30123.142</td>\n",
       "      <td>3789181448</td>\n",
       "      <td>B</td>\n",
       "    </tr>\n",
       "    <tr>\n",
       "      <th>3</th>\n",
       "      <td>19.305</td>\n",
       "      <td>2347875977</td>\n",
       "      <td>A</td>\n",
       "    </tr>\n",
       "    <tr>\n",
       "      <th>4</th>\n",
       "      <td>14.813</td>\n",
       "      <td>2627218697</td>\n",
       "      <td>B</td>\n",
       "    </tr>\n",
       "    <tr>\n",
       "      <th>5</th>\n",
       "      <td>891.071</td>\n",
       "      <td>3705282954</td>\n",
       "      <td>A</td>\n",
       "    </tr>\n",
       "    <tr>\n",
       "      <th>6</th>\n",
       "      <td>27.339</td>\n",
       "      <td>3643720589</td>\n",
       "      <td>A</td>\n",
       "    </tr>\n",
       "    <tr>\n",
       "      <th>7</th>\n",
       "      <td>2.715</td>\n",
       "      <td>2779827600</td>\n",
       "      <td>A</td>\n",
       "    </tr>\n",
       "    <tr>\n",
       "      <th>8</th>\n",
       "      <td>31.059</td>\n",
       "      <td>2779827600</td>\n",
       "      <td>B</td>\n",
       "    </tr>\n",
       "    <tr>\n",
       "      <th>9</th>\n",
       "      <td>8.915</td>\n",
       "      <td>2205262229</td>\n",
       "      <td>A</td>\n",
       "    </tr>\n",
       "    <tr>\n",
       "      <th>10</th>\n",
       "      <td>12.430</td>\n",
       "      <td>4187339032</td>\n",
       "      <td>A</td>\n",
       "    </tr>\n",
       "    <tr>\n",
       "      <th>11</th>\n",
       "      <td>417.532</td>\n",
       "      <td>668496795</td>\n",
       "      <td>B</td>\n",
       "    </tr>\n",
       "    <tr>\n",
       "      <th>12</th>\n",
       "      <td>245.273</td>\n",
       "      <td>1132830238</td>\n",
       "      <td>B</td>\n",
       "    </tr>\n",
       "    <tr>\n",
       "      <th>13</th>\n",
       "      <td>9.176</td>\n",
       "      <td>3238655903</td>\n",
       "      <td>B</td>\n",
       "    </tr>\n",
       "    <tr>\n",
       "      <th>14</th>\n",
       "      <td>6.256</td>\n",
       "      <td>1717663905</td>\n",
       "      <td>B</td>\n",
       "    </tr>\n",
       "    <tr>\n",
       "      <th>15</th>\n",
       "      <td>5.413</td>\n",
       "      <td>1694665000</td>\n",
       "      <td>A</td>\n",
       "    </tr>\n",
       "    <tr>\n",
       "      <th>16</th>\n",
       "      <td>34878.510</td>\n",
       "      <td>2914033577</td>\n",
       "      <td>A</td>\n",
       "    </tr>\n",
       "    <tr>\n",
       "      <th>17</th>\n",
       "      <td>110.165</td>\n",
       "      <td>2914033577</td>\n",
       "      <td>B</td>\n",
       "    </tr>\n",
       "    <tr>\n",
       "      <th>18</th>\n",
       "      <td>298.866</td>\n",
       "      <td>785509936</td>\n",
       "      <td>A</td>\n",
       "    </tr>\n",
       "    <tr>\n",
       "      <th>19</th>\n",
       "      <td>306763.190</td>\n",
       "      <td>3563937844</td>\n",
       "      <td>A</td>\n",
       "    </tr>\n",
       "    <tr>\n",
       "      <th>20</th>\n",
       "      <td>4.477</td>\n",
       "      <td>3563937844</td>\n",
       "      <td>B</td>\n",
       "    </tr>\n",
       "    <tr>\n",
       "      <th>21</th>\n",
       "      <td>18.203</td>\n",
       "      <td>3238465590</td>\n",
       "      <td>A</td>\n",
       "    </tr>\n",
       "    <tr>\n",
       "      <th>22</th>\n",
       "      <td>8.325</td>\n",
       "      <td>3412190653</td>\n",
       "      <td>A</td>\n",
       "    </tr>\n",
       "    <tr>\n",
       "      <th>23</th>\n",
       "      <td>23.264</td>\n",
       "      <td>3412190653</td>\n",
       "      <td>B</td>\n",
       "    </tr>\n",
       "    <tr>\n",
       "      <th>24</th>\n",
       "      <td>52.719</td>\n",
       "      <td>537277891</td>\n",
       "      <td>A</td>\n",
       "    </tr>\n",
       "    <tr>\n",
       "      <th>25</th>\n",
       "      <td>11.151</td>\n",
       "      <td>614658883</td>\n",
       "      <td>A</td>\n",
       "    </tr>\n",
       "    <tr>\n",
       "      <th>26</th>\n",
       "      <td>2.393</td>\n",
       "      <td>161490244</td>\n",
       "      <td>A</td>\n",
       "    </tr>\n",
       "    <tr>\n",
       "      <th>27</th>\n",
       "      <td>11.231</td>\n",
       "      <td>2453186631</td>\n",
       "      <td>B</td>\n",
       "    </tr>\n",
       "    <tr>\n",
       "      <th>28</th>\n",
       "      <td>4.627</td>\n",
       "      <td>3299522247</td>\n",
       "      <td>B</td>\n",
       "    </tr>\n",
       "    <tr>\n",
       "      <th>29</th>\n",
       "      <td>40.096</td>\n",
       "      <td>3913753674</td>\n",
       "      <td>B</td>\n",
       "    </tr>\n",
       "    <tr>\n",
       "      <th>30</th>\n",
       "      <td>6.510</td>\n",
       "      <td>689965390</td>\n",
       "      <td>A</td>\n",
       "    </tr>\n",
       "    <tr>\n",
       "      <th>31</th>\n",
       "      <td>8.940</td>\n",
       "      <td>3088059985</td>\n",
       "      <td>A</td>\n",
       "    </tr>\n",
       "    <tr>\n",
       "      <th>32</th>\n",
       "      <td>30.082</td>\n",
       "      <td>1386160978</td>\n",
       "      <td>A</td>\n",
       "    </tr>\n",
       "    <tr>\n",
       "      <th>33</th>\n",
       "      <td>4.511</td>\n",
       "      <td>931274072</td>\n",
       "      <td>A</td>\n",
       "    </tr>\n",
       "    <tr>\n",
       "      <th>34</th>\n",
       "      <td>145.488</td>\n",
       "      <td>1802323419</td>\n",
       "      <td>A</td>\n",
       "    </tr>\n",
       "    <tr>\n",
       "      <th>35</th>\n",
       "      <td>7.789</td>\n",
       "      <td>2299771869</td>\n",
       "      <td>A</td>\n",
       "    </tr>\n",
       "    <tr>\n",
       "      <th>36</th>\n",
       "      <td>17.071</td>\n",
       "      <td>2299771869</td>\n",
       "      <td>B</td>\n",
       "    </tr>\n",
       "    <tr>\n",
       "      <th>37</th>\n",
       "      <td>12.454</td>\n",
       "      <td>753415774</td>\n",
       "      <td>A</td>\n",
       "    </tr>\n",
       "    <tr>\n",
       "      <th>38</th>\n",
       "      <td>5.238</td>\n",
       "      <td>2846377697</td>\n",
       "      <td>A</td>\n",
       "    </tr>\n",
       "    <tr>\n",
       "      <th>39</th>\n",
       "      <td>4.547</td>\n",
       "      <td>3230577514</td>\n",
       "      <td>A</td>\n",
       "    </tr>\n",
       "    <tr>\n",
       "      <th>40</th>\n",
       "      <td>7.387</td>\n",
       "      <td>158080108</td>\n",
       "      <td>B</td>\n",
       "    </tr>\n",
       "    <tr>\n",
       "      <th>41</th>\n",
       "      <td>163.706</td>\n",
       "      <td>1031117037</td>\n",
       "      <td>B</td>\n",
       "    </tr>\n",
       "    <tr>\n",
       "      <th>42</th>\n",
       "      <td>7.053</td>\n",
       "      <td>343915892</td>\n",
       "      <td>B</td>\n",
       "    </tr>\n",
       "    <tr>\n",
       "      <th>43</th>\n",
       "      <td>11.434</td>\n",
       "      <td>1924079479</td>\n",
       "      <td>A</td>\n",
       "    </tr>\n",
       "    <tr>\n",
       "      <th>44</th>\n",
       "      <td>5.071</td>\n",
       "      <td>1966625919</td>\n",
       "      <td>B</td>\n",
       "    </tr>\n",
       "  </tbody>\n",
       "</table>\n",
       "</div>"
      ],
      "text/plain": [
       "       delta_t     user_id versao\n",
       "0    43235.968  1355150594      B\n",
       "1        6.483  1561760900      B\n",
       "2    30123.142  3789181448      B\n",
       "3       19.305  2347875977      A\n",
       "4       14.813  2627218697      B\n",
       "5      891.071  3705282954      A\n",
       "6       27.339  3643720589      A\n",
       "7        2.715  2779827600      A\n",
       "8       31.059  2779827600      B\n",
       "9        8.915  2205262229      A\n",
       "10      12.430  4187339032      A\n",
       "11     417.532   668496795      B\n",
       "12     245.273  1132830238      B\n",
       "13       9.176  3238655903      B\n",
       "14       6.256  1717663905      B\n",
       "15       5.413  1694665000      A\n",
       "16   34878.510  2914033577      A\n",
       "17     110.165  2914033577      B\n",
       "18     298.866   785509936      A\n",
       "19  306763.190  3563937844      A\n",
       "20       4.477  3563937844      B\n",
       "21      18.203  3238465590      A\n",
       "22       8.325  3412190653      A\n",
       "23      23.264  3412190653      B\n",
       "24      52.719   537277891      A\n",
       "25      11.151   614658883      A\n",
       "26       2.393   161490244      A\n",
       "27      11.231  2453186631      B\n",
       "28       4.627  3299522247      B\n",
       "29      40.096  3913753674      B\n",
       "30       6.510   689965390      A\n",
       "31       8.940  3088059985      A\n",
       "32      30.082  1386160978      A\n",
       "33       4.511   931274072      A\n",
       "34     145.488  1802323419      A\n",
       "35       7.789  2299771869      A\n",
       "36      17.071  2299771869      B\n",
       "37      12.454   753415774      A\n",
       "38       5.238  2846377697      A\n",
       "39       4.547  3230577514      A\n",
       "40       7.387   158080108      B\n",
       "41     163.706  1031117037      B\n",
       "42       7.053   343915892      B\n",
       "43      11.434  1924079479      A\n",
       "44       5.071  1966625919      B"
      ]
     },
     "execution_count": 14,
     "metadata": {},
     "output_type": "execute_result"
    }
   ],
   "source": [
    "dataframe_resumo"
   ]
  },
  {
   "cell_type": "code",
   "execution_count": 15,
   "metadata": {
    "collapsed": false
   },
   "outputs": [],
   "source": [
    "resultados_A=dataframe_resumo.query('versao == \"A\" and delta_t < 100 and delta_t>0')\n",
    "resultados_B=dataframe_resumo.query('versao == \"B\" and delta_t < 100 and delta_t>0')"
   ]
  },
  {
   "cell_type": "code",
   "execution_count": 16,
   "metadata": {
    "collapsed": false
   },
   "outputs": [
    {
     "data": {
      "text/plain": [
       "count    20.000000\n",
       "mean     13.020650\n",
       "std      12.035537\n",
       "min       2.393000\n",
       "25%       5.369250\n",
       "50%       8.927500\n",
       "75%      13.891250\n",
       "max      52.719000\n",
       "Name: delta_t, dtype: float64"
      ]
     },
     "execution_count": 16,
     "metadata": {},
     "output_type": "execute_result"
    }
   ],
   "source": [
    "resultados_A.delta_t.describe()"
   ]
  },
  {
   "cell_type": "code",
   "execution_count": 17,
   "metadata": {
    "collapsed": false
   },
   "outputs": [
    {
     "data": {
      "text/plain": [
       "count    14.000000\n",
       "mean     13.433143\n",
       "std      10.958310\n",
       "min       4.477000\n",
       "25%       6.312750\n",
       "50%       8.281500\n",
       "75%      16.506500\n",
       "max      40.096000\n",
       "Name: delta_t, dtype: float64"
      ]
     },
     "execution_count": 17,
     "metadata": {},
     "output_type": "execute_result"
    }
   ],
   "source": [
    "resultados_B.delta_t.describe()"
   ]
  },
  {
   "cell_type": "code",
   "execution_count": 27,
   "metadata": {
    "collapsed": false
   },
   "outputs": [
    {
     "data": {
      "image/png": "[encoded data removed]",
      "text/plain": [
       "<matplotlib.figure.Figure at 0x2087e26b080>"
      ]
     },
     "metadata": {},
     "output_type": "display_data"
    },
    {
     "name": "stdout",
     "output_type": "stream",
     "text": [
      "Média em milisegundos do tempo levado na versão A:  13.02065\n",
      "Variancia em milisegundos do tempo levado na versão A:  144.85414592368423\n"
     ]
    }
   ],
   "source": [
    "plt.hist(resultados_A.delta_t, bins = range(2,55,3), normed = 1)\n",
    "plt.ylabel(\"Densidade\")\n",
    "plt.xlabel(\"Tempo(s)\")\n",
    "plt.show()\n",
    "\n",
    "\n",
    "\n",
    "print('Média em segundos do tempo levado na versão A: ',resultados_A.delta_t.mean() )\n",
    "print('Variancia em segundos do tempo levado na versão A: ',resultados_A.delta_t.var() )"
   ]
  },
  {
   "cell_type": "markdown",
   "metadata": {},
   "source": [
    "O histograma acima mostra que quase todos usuarios conseguem achar a pagina sobre mim em menos de 20 segundos, e que alguns usuarios chegaram demorar um poucos mais de 30 segundos.\n",
    "Sendo o sobre mim no final da linha."
   ]
  },
  {
   "cell_type": "code",
   "execution_count": 28,
   "metadata": {
    "collapsed": false,
    "scrolled": true
   },
   "outputs": [
    {
     "data": {
      "image/png": "[encoded data removed]",
      "text/plain": [
       "<matplotlib.figure.Figure at 0x2087e26a4a8>"
      ]
     },
     "metadata": {},
     "output_type": "display_data"
    },
    {
     "name": "stdout",
     "output_type": "stream",
     "text": [
      "Média em milisegundos do tempo levado na versão B:  13.433142857142856\n",
      "Variancia em milisegundos do tempo levado na versão B:  120.08455874725274\n"
     ]
    }
   ],
   "source": [
    "plt.hist(resultados_B.delta_t, bins = range(2,55,3), normed = 1)\n",
    "plt.ylabel(\"Densidade\")\n",
    "plt.xlabel(\"Tempo(s)\")\n",
    "plt.show()\n",
    "\n",
    "print('Média em segundos do tempo levado na versão B: ',resultados_B.delta_t.mean() )\n",
    "print('Variancia em segundos do tempo levado na versão B: ',resultados_B.delta_t.var() )"
   ]
  },
  {
   "cell_type": "markdown",
   "metadata": {},
   "source": [
    "Alterando a posição do sobre mim, obtivemos o novo histograma, que deixa claro que foi mais facil para os usuários achar o sobre mim, o que resultou em um tempo mínimo médio bem menor."
   ]
  },
  {
   "cell_type": "code",
   "execution_count": 20,
   "metadata": {
    "collapsed": false
   },
   "outputs": [
    {
     "data": {
      "text/plain": [
       "<matplotlib.axes._subplots.AxesSubplot at 0x2087cde3438>"
      ]
     },
     "execution_count": 20,
     "metadata": {},
     "output_type": "execute_result"
    },
    {
     "data": {
      "image/png": "[encoded data removed]",
      "text/plain": [
       "<matplotlib.figure.Figure at 0x2087c42fba8>"
      ]
     },
     "metadata": {},
     "output_type": "display_data"
    }
   ],
   "source": [
    "resultados_A.boxplot(column = \"delta_t\", by = \"versao\")"
   ]
  },
  {
   "cell_type": "markdown",
   "metadata": {},
   "source": [
    "Com a exibição dessa bloxplot é possível verificar a tendência das visitas, dessa forma tendo a sua mediana em aproximadamente 9 segundos, e a comparação fica mais visível tendo a bloxplot para as duas versões."
   ]
  },
  {
   "cell_type": "code",
   "execution_count": 21,
   "metadata": {
    "collapsed": false
   },
   "outputs": [
    {
     "data": {
      "text/plain": [
       "<matplotlib.axes._subplots.AxesSubplot at 0x2087ce1e438>"
      ]
     },
     "execution_count": 21,
     "metadata": {},
     "output_type": "execute_result"
    },
    {
     "data": {
      "image/png": "[encoded data removed]",
      "text/plain": [
       "<matplotlib.figure.Figure at 0x2087ce2dd68>"
      ]
     },
     "metadata": {},
     "output_type": "display_data"
    }
   ],
   "source": [
    "resultados_B.boxplot(column = \"delta_t\", by = \"versao\")"
   ]
  },
  {
   "cell_type": "markdown",
   "metadata": {},
   "source": [
    "Com o gráfico para a versão B do site, é possível verificar um maior espalhamento dos quartis superiores, dessa forma, possuindo um desvio padrão maior em relação a primeira."
   ]
  },
  {
   "cell_type": "markdown",
   "metadata": {},
   "source": [
    "## Simulando para uma população maior\n",
    "\n",
    "O número baixo de amostras captadas pelo site, não nos permite realizar uma afirmação concreta sobre a versão mais eficiênte.\n",
    "Dessa forma vemos necessário expandir estes valores, por meio de simulações, de forma a encontrar uma resposta que se aproxima de valores captados em testes reais."
   ]
  },
  {
   "cell_type": "code",
   "execution_count": 22,
   "metadata": {
    "collapsed": false
   },
   "outputs": [
    {
     "data": {
      "text/plain": [
       "(array([  6.20470565e-04,   1.24094113e-03,   6.41152917e-03,\n",
       "          2.46119991e-02,   6.49425858e-02,   1.39812701e-01,\n",
       "          2.10546345e-01,   2.92655283e-01,   3.33606340e-01,\n",
       "          3.17474106e-01,   2.58943049e-01,   1.92759522e-01,\n",
       "          1.10857408e-01,   6.55630564e-02,   2.79211754e-02,\n",
       "          1.24094113e-02,   5.58423508e-03,   1.44776465e-03,\n",
       "          6.20470565e-04,   2.06823522e-04]),\n",
       " array([  8.70121 ,   9.184714,   9.668218,  10.151722,  10.635226,\n",
       "         11.11873 ,  11.602234,  12.085738,  12.569242,  13.052746,\n",
       "         13.53625 ,  14.019754,  14.503258,  14.986762,  15.470266,\n",
       "         15.95377 ,  16.437274,  16.920778,  17.404282,  17.887786,\n",
       "         18.37129 ]),\n",
       " <a list of 20 Patch objects>)"
      ]
     },
     "execution_count": 22,
     "metadata": {},
     "output_type": "execute_result"
    },
    {
     "data": {
      "image/png": "[encoded data removed]",
      "text/plain": [
       "<matplotlib.figure.Figure at 0x2087ceeb208>"
      ]
     },
     "metadata": {},
     "output_type": "display_data"
    }
   ],
   "source": [
    "mediaA = []\n",
    "for i in range(10000):\n",
    "    mediaA.append(np.mean(np.random.choice(resultados_A.delta_t,size = 100)))\n",
    "x_barra = pd.Series(mediaA)\n",
    "plt.hist(x_barra, bins = 20, normed = 1)"
   ]
  },
  {
   "cell_type": "markdown",
   "metadata": {},
   "source": [
    "O grafico acima representa o histograma baseado na media das médias amostrais."
   ]
  },
  {
   "cell_type": "code",
   "execution_count": 23,
   "metadata": {
    "collapsed": false,
    "scrolled": true
   },
   "outputs": [
    {
     "data": {
      "text/plain": [
       "(array([  2.60035191e-03,   9.10123170e-03,   2.44866472e-02,\n",
       "          6.67423658e-02,   1.26117068e-01,   2.17562777e-01,\n",
       "          2.97740294e-01,   3.12909014e-01,   3.35012005e-01,\n",
       "          2.88205671e-01,   1.95243090e-01,   1.37818651e-01,\n",
       "          7.82272534e-02,   4.18223266e-02,   2.14529033e-02,\n",
       "          7.15096776e-03,   3.25043989e-03,   8.66783971e-04,\n",
       "          4.33391986e-04,   2.16695993e-04]),\n",
       " array([  9.26516 ,   9.726636,  10.188112,  10.649588,  11.111064,\n",
       "         11.57254 ,  12.034016,  12.495492,  12.956968,  13.418444,\n",
       "         13.87992 ,  14.341396,  14.802872,  15.264348,  15.725824,\n",
       "         16.1873  ,  16.648776,  17.110252,  17.571728,  18.033204,\n",
       "         18.49468 ]),\n",
       " <a list of 20 Patch objects>)"
      ]
     },
     "execution_count": 23,
     "metadata": {},
     "output_type": "execute_result"
    },
    {
     "data": {
      "image/png": "[encoded data removed]",
      "text/plain": [
       "<matplotlib.figure.Figure at 0x2087df6ce10>"
      ]
     },
     "metadata": {},
     "output_type": "display_data"
    }
   ],
   "source": [
    "mediaA = []\n",
    "for i in range(10000):\n",
    "    mediaA.append(np.mean(np.random.choice(resultados_A.delta_t,size = 100)))\n",
    "x_barra = pd.Series(mediaA)\n",
    "plt.hist(x_barra, bins = 20, normed = 1)"
   ]
  },
  {
   "cell_type": "code",
   "execution_count": null,
   "metadata": {
    "collapsed": true
   },
   "outputs": [],
   "source": []
  }
 ],
 "metadata": {
  "kernelspec": {
   "display_name": "Python 3",
   "language": "python",
   "name": "python3"
  },
  "language_info": {
   "codemirror_mode": {
    "name": "ipython",
    "version": 3
   },
   "file_extension": ".py",
   "mimetype": "text/x-python",
   "name": "python",
   "nbconvert_exporter": "python",
   "pygments_lexer": "ipython3",
   "version": "3.5.1"
  }
 },
 "nbformat": 4,
 "nbformat_minor": 0
}
